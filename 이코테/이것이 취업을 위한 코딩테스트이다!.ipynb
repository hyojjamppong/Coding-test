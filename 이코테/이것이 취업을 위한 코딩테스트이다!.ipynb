{
 "cells": [
  {
   "cell_type": "markdown",
   "id": "51367cf7",
   "metadata": {},
   "source": [
    "## 그리디 알고리즘 (탐욕법)"
   ]
  },
  {
   "cell_type": "markdown",
   "id": "cb38cea3",
   "metadata": {},
   "source": [
    "- 현재 상황에서 지금 당장 좋은 것만 고르는 방법  \n",
    "- 문제를 풀기 위한 최소한의 아디이어 떠올리는 능력 필요  \n",
    "- **정당성 분석** 중요 > 단순히 가장 좋아 보이는 것을 반복적으로 선택해도 최적의 해를 구할 수 있는지 검토 필요  "
   ]
  },
  {
   "cell_type": "markdown",
   "id": "bde27d54",
   "metadata": {},
   "source": [
    "### 예제) 거스름돈"
   ]
  },
  {
   "cell_type": "markdown",
   "id": "9b20c252",
   "metadata": {},
   "source": [
    "Q. 가장 큰 화폐 단위부터 돈을 거슬러 주는 것이 최적의 해를 보장하는 이유?  \n",
    "= 가지고 있는 동전 중에서 큰 단위가 항상 작은 단위의 배수이므로 작은 단위의 동전들을 종합해 다른 해가 나올 수 없기 때문"
   ]
  },
  {
   "cell_type": "code",
   "execution_count": 1,
   "id": "c1a0501c",
   "metadata": {},
   "outputs": [
    {
     "name": "stdout",
     "output_type": "stream",
     "text": [
      "6\n"
     ]
    }
   ],
   "source": [
    "n = 1260\n",
    "count = 0\n",
    "\n",
    "#큰 단위의 화폐부터 차례대로 확인하기\n",
    "array = [500,100,50,10]\n",
    "\n",
    "for coin in array:\n",
    "    count += n // coin\n",
    "    n %= coin\n",
    "\n",
    "print(count)"
   ]
  },
  {
   "cell_type": "markdown",
   "id": "803af3c0",
   "metadata": {},
   "source": [
    "### 문제) 1이 될 때까지"
   ]
  },
  {
   "cell_type": "code",
   "execution_count": 17,
   "id": "3225844b",
   "metadata": {},
   "outputs": [
    {
     "name": "stdout",
     "output_type": "stream",
     "text": [
      "37 5\n",
      "6\n"
     ]
    }
   ],
   "source": [
    "n, k = map(int, input().split(' '))\n",
    "count = 0\n",
    "\n",
    "while n != 1: \n",
    "    if n % k == 0:\n",
    "        n = n / k\n",
    "        count += 1\n",
    "    elif n % k != 0:\n",
    "        n -= 1\n",
    "        count += 1\n",
    "        \n",
    "print(count)"
   ]
  },
  {
   "cell_type": "code",
   "execution_count": null,
   "id": "9e0307c1",
   "metadata": {},
   "outputs": [],
   "source": []
  },
  {
   "cell_type": "code",
   "execution_count": null,
   "id": "e9eab1d3",
   "metadata": {},
   "outputs": [],
   "source": []
  },
  {
   "cell_type": "code",
   "execution_count": null,
   "id": "b7a54229",
   "metadata": {},
   "outputs": [],
   "source": []
  },
  {
   "cell_type": "code",
   "execution_count": null,
   "id": "23cd4b57",
   "metadata": {},
   "outputs": [],
   "source": []
  },
  {
   "cell_type": "code",
   "execution_count": null,
   "id": "80c387c8",
   "metadata": {},
   "outputs": [],
   "source": []
  },
  {
   "cell_type": "code",
   "execution_count": null,
   "id": "41c6e4f7",
   "metadata": {},
   "outputs": [],
   "source": []
  },
  {
   "cell_type": "code",
   "execution_count": null,
   "id": "966700cd",
   "metadata": {},
   "outputs": [],
   "source": []
  },
  {
   "cell_type": "code",
   "execution_count": null,
   "id": "dcbfd9bc",
   "metadata": {},
   "outputs": [],
   "source": []
  }
 ],
 "metadata": {
  "kernelspec": {
   "display_name": "Python 3 (ipykernel)",
   "language": "python",
   "name": "python3"
  },
  "language_info": {
   "codemirror_mode": {
    "name": "ipython",
    "version": 3
   },
   "file_extension": ".py",
   "mimetype": "text/x-python",
   "name": "python",
   "nbconvert_exporter": "python",
   "pygments_lexer": "ipython3",
   "version": "3.9.12"
  }
 },
 "nbformat": 4,
 "nbformat_minor": 5
}
