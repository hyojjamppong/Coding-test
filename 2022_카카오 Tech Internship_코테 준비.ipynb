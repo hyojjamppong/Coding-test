{
 "cells": [
  {
   "cell_type": "markdown",
   "id": "247728eb",
   "metadata": {},
   "source": [
    "## 복잡도"
   ]
  },
  {
   "cell_type": "markdown",
   "id": "6f414218",
   "metadata": {},
   "source": [
    "### 시간복잡도 (N) 합산함수"
   ]
  },
  {
   "cell_type": "code",
   "execution_count": 1,
   "id": "8af03fae",
   "metadata": {},
   "outputs": [
    {
     "name": "stdout",
     "output_type": "stream",
     "text": [
      "15\n"
     ]
    }
   ],
   "source": [
    "array = [3,5,1,2,4]\n",
    "summary = 0\n",
    "for x in array:\n",
    "    summary += x\n",
    "print(summary)"
   ]
  },
  {
   "cell_type": "markdown",
   "id": "75cd02f3",
   "metadata": {},
   "source": [
    "### 시간복잡도 (N^2) 곱셈함수"
   ]
  },
  {
   "cell_type": "code",
   "execution_count": 2,
   "id": "71e038ef",
   "metadata": {},
   "outputs": [
    {
     "name": "stdout",
     "output_type": "stream",
     "text": [
      "9\n",
      "15\n",
      "3\n",
      "6\n",
      "12\n",
      "15\n",
      "25\n",
      "5\n",
      "10\n",
      "20\n",
      "3\n",
      "5\n",
      "1\n",
      "2\n",
      "4\n",
      "6\n",
      "10\n",
      "2\n",
      "4\n",
      "8\n",
      "12\n",
      "20\n",
      "4\n",
      "8\n",
      "16\n"
     ]
    }
   ],
   "source": [
    "array = [3,5,1,2,4]\n",
    "for i in array:\n",
    "    for j in array:\n",
    "        temp = i*j\n",
    "        print(temp)"
   ]
  },
  {
   "cell_type": "markdown",
   "id": "1ca41af1",
   "metadata": {},
   "source": [
    "### 수행시간 측정코드"
   ]
  },
  {
   "cell_type": "code",
   "execution_count": 3,
   "id": "1bf71469",
   "metadata": {},
   "outputs": [
    {
     "name": "stdout",
     "output_type": "stream",
     "text": [
      "time:  0.0\n"
     ]
    }
   ],
   "source": [
    "import time\n",
    "start_time = time.time()\n",
    "\n",
    "#프로그램 소스코드\n",
    "end_time = time.time()\n",
    "print(\"time: \", end_time - start_time) #수행시간 출력"
   ]
  },
  {
   "cell_type": "markdown",
   "id": "d117d818",
   "metadata": {},
   "source": [
    "### 선택 정렬과 기본 정렬 라이브러리의 수행시간 비교"
   ]
  },
  {
   "cell_type": "code",
   "execution_count": 5,
   "id": "60cf5e53",
   "metadata": {},
   "outputs": [
    {
     "name": "stdout",
     "output_type": "stream",
     "text": [
      "선택 정렬 성능 측정:  8.293810606002808\n",
      "기본 정렬 성능 측정:  0.000997304916381836\n"
     ]
    }
   ],
   "source": [
    "from random import randint\n",
    "import time\n",
    "\n",
    "# 배열에 10000개의 정수를 삽입\n",
    "array = []\n",
    "for _ in range(10000):\n",
    "    array.append(randint(1,100)) # 1부터 100 사이의 랜덤한 정수\n",
    "\n",
    "# 선택 정렬 프로그램 성능 측정\n",
    "start_time = time.time()\n",
    "\n",
    "# 선택 정렬 프로그램 소스코드\n",
    "for i in range(len(array)):\n",
    "    min_index = i # 가장 작은 원소의 인덱스\n",
    "    for j in range(i+1, len(array)):\n",
    "        if array[min_index] > array[j]:\n",
    "            min_index = j\n",
    "    array[i], array[min_index] = array[min_index], array[i] # 스와프\n",
    "    \n",
    "end_time = time.time() # 측정종료\n",
    "print(\"선택 정렬 성능 측정: \", end_time - start_time) # 수행 시간 출력\n",
    "\n",
    "\n",
    "# 배열을 다시 무작위 데이터로 초기화\n",
    "array = []\n",
    "for _ in range(10000):\n",
    "    array.append(randint(1,100))\n",
    "    \n",
    "# 기본 라이브러리 성능 측정\n",
    "start_time = time.time()\n",
    "\n",
    "# 기본 정렬 라이브러리 사용\n",
    "array.sort()\n",
    "\n",
    "end_time = time.time() # 측정종료\n",
    "print(\"기본 정렬 성능 측정: \", end_time - start_time)\n"
   ]
  },
  {
   "cell_type": "markdown",
   "id": "4c2dbe83",
   "metadata": {},
   "source": [
    "## 그리디 알고리즘"
   ]
  },
  {
   "cell_type": "markdown",
   "id": "a62d96a0",
   "metadata": {},
   "source": [
    "### 1. 거스름돈"
   ]
  },
  {
   "cell_type": "code",
   "execution_count": 7,
   "id": "272b4f87",
   "metadata": {},
   "outputs": [
    {
     "name": "stdout",
     "output_type": "stream",
     "text": [
      "6\n"
     ]
    }
   ],
   "source": [
    "n = 1260\n",
    "count = 0\n",
    "\n",
    "# 큰 단위의 화폐부터 차례대로 확인\n",
    "coin_types = [500, 100, 50, 10]\n",
    "\n",
    "for coin in coin_types:\n",
    "    count += n // coin\n",
    "    n %= coin\n",
    "    \n",
    "print(count)"
   ]
  },
  {
   "cell_type": "markdown",
   "id": "5cf2e097",
   "metadata": {},
   "source": [
    "### 2. 큰 수의 법칙"
   ]
  },
  {
   "cell_type": "code",
   "execution_count": 12,
   "id": "b4d81377",
   "metadata": {},
   "outputs": [
    {
     "name": "stdout",
     "output_type": "stream",
     "text": [
      "5 8 3\n",
      "2 4 5 4 6\n",
      "46\n"
     ]
    }
   ],
   "source": [
    "# 배열의 크기: N, 숫자 더해지는 횟수: M, 연속허용 횟수: K\n",
    "\n",
    "n, m, k = map(int, input().split( ))\n",
    "data = list(map(int, input().split()))\n",
    "\n",
    "data.sort() # 입력받은 수들 정렬하기\n",
    "first = data[-1] # 가장 큰 수\n",
    "second = data[-2] # 두번째 큰 수\n",
    "\n",
    "result = 0\n",
    "\n",
    "while True:\n",
    "    for i in range(k):\n",
    "        if m == 0: break\n",
    "        result += first\n",
    "        m -= 1\n",
    "    if m == 0: break\n",
    "    result += second\n",
    "    m -= 1\n",
    "\n",
    "print(result)          "
   ]
  },
  {
   "cell_type": "code",
   "execution_count": 14,
   "id": "27cafd74",
   "metadata": {},
   "outputs": [
    {
     "name": "stdout",
     "output_type": "stream",
     "text": [
      "5 8 3\n",
      "2 4 5 4 6\n",
      "46\n"
     ]
    }
   ],
   "source": [
    "n, m, k = map(int, input().split( ))\n",
    "data = list(map(int, input().split( )))\n",
    "\n",
    "data.sort()\n",
    "first = data[-1]\n",
    "second = data[-2]\n",
    "\n",
    "# 가장 큰 수가 더해지는 횟수 계산\n",
    "count = (m // (k+1)) * k + (m % (k+1))\n",
    "\n",
    "result = 0\n",
    "result += (first * count)\n",
    "result += second * (m-count)\n",
    "\n",
    "print(result)"
   ]
  },
  {
   "cell_type": "markdown",
   "id": "cb0cfe0d",
   "metadata": {},
   "source": [
    "### 3. 숫자 카드 게임"
   ]
  },
  {
   "cell_type": "code",
   "execution_count": 18,
   "id": "21b295b1",
   "metadata": {},
   "outputs": [
    {
     "name": "stdout",
     "output_type": "stream",
     "text": [
      "3 4\n",
      "1 2 3 4\n",
      "5 6 7 8\n",
      "9 10 11 12\n",
      "9\n"
     ]
    }
   ],
   "source": [
    "n, m = map(int, input().split())\n",
    "\n",
    "result = 0\n",
    "for i in range(n):\n",
    "    data = list(map(int, input().split( )))\n",
    "    min_value = min(data)\n",
    "    result = max(result, min_value)\n",
    "    \n",
    "print(result)"
   ]
  },
  {
   "cell_type": "markdown",
   "id": "5294d347",
   "metadata": {},
   "source": [
    "### 4. 1이 될 때까지"
   ]
  },
  {
   "cell_type": "code",
   "execution_count": 23,
   "id": "e8aeda00",
   "metadata": {},
   "outputs": [
    {
     "name": "stdout",
     "output_type": "stream",
     "text": [
      "25 5\n",
      "2\n"
     ]
    }
   ],
   "source": [
    "n, k = map(int, input().split())\n",
    "count = 0\n",
    "\n",
    "while n >= k:\n",
    "    while n % k != 0:\n",
    "        n -= 1\n",
    "        count += 1\n",
    "    n //= k\n",
    "    count += 1\n",
    "\n",
    "while n > 1:\n",
    "    n -= 1\n",
    "    count += 1\n",
    "print(count)"
   ]
  },
  {
   "cell_type": "markdown",
   "id": "8f33013e",
   "metadata": {},
   "source": [
    "## 구현 알고리즘"
   ]
  },
  {
   "cell_type": "markdown",
   "id": "96fc7d9c",
   "metadata": {},
   "source": [
    "### 1.상하좌우"
   ]
  },
  {
   "cell_type": "code",
   "execution_count": 4,
   "id": "98840ced",
   "metadata": {},
   "outputs": [
    {
     "name": "stdout",
     "output_type": "stream",
     "text": [
      "5\n",
      "R R R U D D\n",
      "3 4\n"
     ]
    }
   ],
   "source": [
    "n = int(input())\n",
    "plans = input().split( )\n",
    "x, y = 1, 1\n",
    "move = ['R', 'L', 'U', 'D']\n",
    "dx = [0, 0, -1, 1]\n",
    "dy = [1, -1, 0, 0]\n",
    "\n",
    "for plan in plans:\n",
    "    for i in range(len(move)):\n",
    "        if plans == move[i]:\n",
    "            nx = x + dx[i]\n",
    "            ny = y + dy[i]\n",
    "    if nx < 1 or ny < 1 or nx > n or ny > n:\n",
    "        continue\n",
    "    x, y = nx, ny\n",
    "print(x, y)"
   ]
  },
  {
   "cell_type": "markdown",
   "id": "668b1bb2",
   "metadata": {},
   "source": [
    "### 2. 시각"
   ]
  },
  {
   "cell_type": "code",
   "execution_count": 5,
   "id": "11a72ca0",
   "metadata": {},
   "outputs": [
    {
     "name": "stdout",
     "output_type": "stream",
     "text": [
      "5\n",
      "11475\n"
     ]
    }
   ],
   "source": [
    "h = int(input())\n",
    "\n",
    "count = 0\n",
    "for i in range(h + 1):\n",
    "    for j in range(60):\n",
    "        for k in range(60):\n",
    "            if '3' in str(i) + str(j) + str(k):\n",
    "                count += 1\n",
    "print(count)"
   ]
  },
  {
   "cell_type": "markdown",
   "id": "5c1181c7",
   "metadata": {},
   "source": [
    "### 3. 왕실의 나이트"
   ]
  },
  {
   "cell_type": "markdown",
   "id": "1b93840d",
   "metadata": {},
   "source": [
    "**ord(문자) 함수**\n",
    "- 하나의 문자를 인자로 받고 해당 문자에 해당하는 유니코드 정수를 반환\n",
    "- ord('a')를 넣으면 정수 97을 반환"
   ]
  },
  {
   "cell_type": "code",
   "execution_count": 17,
   "id": "73e35795",
   "metadata": {},
   "outputs": [
    {
     "name": "stdout",
     "output_type": "stream",
     "text": [
      "a1\n",
      "2\n"
     ]
    }
   ],
   "source": [
    "knight = input()\n",
    "row = int(knight[1])\n",
    "col= int(ord(knight[0])) - int(ord('a')) + 1\n",
    "\n",
    "moves = [(2, -1), (2, 1), (-2, -1), (-2, 1), (1, -2), (-1, -2), (1, 2), (-1, 2)]\n",
    "\n",
    "num = 0\n",
    "for move in moves:\n",
    "    nrow = row + move[1]\n",
    "    ncol = col + move[0]\n",
    "    if nrow >= 1 and nrow <=8 and ncol >= 1 and ncol <= 8:\n",
    "        num += 1\n",
    "print(num)\n",
    "    \n",
    "    "
   ]
  },
  {
   "cell_type": "markdown",
   "id": "1b882afb",
   "metadata": {},
   "source": [
    "### 4. 게임개발"
   ]
  },
  {
   "cell_type": "code",
   "execution_count": 22,
   "id": "dbfb6b5b",
   "metadata": {},
   "outputs": [
    {
     "name": "stdout",
     "output_type": "stream",
     "text": [
      "4 4\n",
      "1 1 0\n",
      "1 1 1 1\n",
      "1 0 0 1\n",
      "1 1 0 1\n",
      "1 1 1 1\n",
      "3\n"
     ]
    }
   ],
   "source": [
    "n, m = map(int, input().split( ))\n",
    "\n",
    "d = [[0] * m for _ in range(n)] # array로 좌표평면 표현\n",
    "x, y, direction = map(int, input().split( ))\n",
    "d[x][y] = 1 # 현재좌표 방문 처리\n",
    "\n",
    "# 전체 맵 정보\n",
    "array = []\n",
    "for i in range(n):\n",
    "    array.append(list(map(int, input().split( ))))\n",
    "\n",
    "# 북, 동, 남, 서 방향 정의\n",
    "dx = [-1, 0, 1, 0]\n",
    "dy = [0, 1, 0, -1]\n",
    "\n",
    "# 왼쪽으로 회전\n",
    "def turn_left():\n",
    "    global direction\n",
    "    direction -= 1\n",
    "    if direction == -1:\n",
    "        direction = 3\n",
    "\n",
    "# 시뮬레이션\n",
    "count = 1\n",
    "turn_time = 0\n",
    "while True:\n",
    "    # 왼쪽으로 회전\n",
    "    turn_left()\n",
    "    nx = x + dx[direction]\n",
    "    ny = y + dy[direction]\n",
    "    # 회전 이후 정면에 가보지 않은 칸\n",
    "    if d[nx][ny] == 0 and array[nx][ny] == 0:\n",
    "        d[nx][ny] = 1\n",
    "        x = nx\n",
    "        y = ny\n",
    "        count += 1\n",
    "        turn_time = 0\n",
    "        continue\n",
    "    # 회전 이후 가보지 않은 칸이 없거나 바다\n",
    "    else:\n",
    "        turn_time += 1\n",
    "    # 네 방향 모두 갈 수 없는 경우\n",
    "    if turn_time == 4:\n",
    "        nx = x - dx[direction]\n",
    "        ny = y - dy[direction]\n",
    "        # 뒤로 갈 수 있다면 이동하기\n",
    "        if array[nx][ny] == 0:\n",
    "            x = nx\n",
    "            y = ny\n",
    "        # 뒤로 바다가 막혀있는 경우\n",
    "        else:\n",
    "            break\n",
    "        turn_time = 0\n",
    "        \n",
    "print(count)\n",
    "    "
   ]
  },
  {
   "cell_type": "markdown",
   "id": "22dd45fb",
   "metadata": {},
   "source": []
  },
  {
   "cell_type": "markdown",
   "id": "94dfb47c",
   "metadata": {},
   "source": [
    "## 스택, 큐, 재귀함수"
   ]
  },
  {
   "cell_type": "markdown",
   "id": "cf17a655",
   "metadata": {},
   "source": [
    "### 큐 예제"
   ]
  },
  {
   "cell_type": "code",
   "execution_count": 1,
   "id": "1553ae1c",
   "metadata": {},
   "outputs": [
    {
     "name": "stdout",
     "output_type": "stream",
     "text": [
      "deque([3, 7, 1, 4])\n",
      "deque([4, 1, 7, 3])\n"
     ]
    }
   ],
   "source": [
    "from collections import deque\n",
    "\n",
    "queue = deque()\n",
    "\n",
    "queue.append(5)\n",
    "queue.append(2)\n",
    "queue.append(3)\n",
    "queue.append(7)\n",
    "queue.popleft()\n",
    "queue.append(1)\n",
    "queue.append(4)\n",
    "queue.popleft()\n",
    "\n",
    "print(queue) # 먼저 들어온 순서대로 출력\n",
    "queue.reverse()\n",
    "print(queue) # 나중에 들어온 원소부터 출력\n"
   ]
  },
  {
   "cell_type": "markdown",
   "id": "cca77abf",
   "metadata": {},
   "source": [
    "### 재귀함수 예제"
   ]
  },
  {
   "cell_type": "code",
   "execution_count": 4,
   "id": "a57ad665",
   "metadata": {},
   "outputs": [
    {
     "name": "stdout",
     "output_type": "stream",
     "text": [
      "1 번째 재귀 함수에서 2 번째 재귀 함수를 호출합니다.\n",
      "2 번째 재귀 함수에서 3 번째 재귀 함수를 호출합니다.\n",
      "3 번째 재귀 함수에서 4 번째 재귀 함수를 호출합니다.\n",
      "4 번째 재귀 함수에서 5 번째 재귀 함수를 호출합니다.\n",
      "5 번째 재귀 함수에서 6 번째 재귀 함수를 호출합니다.\n",
      "6 번째 재귀 함수에서 7 번째 재귀 함수를 호출합니다.\n",
      "7 번째 재귀 함수에서 8 번째 재귀 함수를 호출합니다.\n",
      "8 번째 재귀 함수에서 9 번째 재귀 함수를 호출합니다.\n",
      "9 번째 재귀 함수에서 10 번째 재귀 함수를 호출합니다.\n",
      "10 번째 재귀 함수에서 11 번째 재귀 함수를 호출합니다.\n",
      "11 번째 재귀 함수에서 12 번째 재귀 함수를 호출합니다.\n",
      "12 번째 재귀 함수에서 13 번째 재귀 함수를 호출합니다.\n",
      "13 번째 재귀 함수에서 14 번째 재귀 함수를 호출합니다.\n",
      "14 번째 재귀 함수에서 15 번째 재귀 함수를 호출합니다.\n",
      "15 번째 재귀 함수에서 16 번째 재귀 함수를 호출합니다.\n",
      "16 번째 재귀 함수에서 17 번째 재귀 함수를 호출합니다.\n",
      "17 번째 재귀 함수에서 18 번째 재귀 함수를 호출합니다.\n",
      "18 번째 재귀 함수에서 19 번째 재귀 함수를 호출합니다.\n",
      "19 번째 재귀 함수에서 20 번째 재귀 함수를 호출합니다.\n",
      "20 번째 재귀 함수에서 21 번째 재귀 함수를 호출합니다.\n",
      "21 번째 재귀 함수에서 22 번째 재귀 함수를 호출합니다.\n",
      "22 번째 재귀 함수에서 23 번째 재귀 함수를 호출합니다.\n",
      "23 번째 재귀 함수에서 24 번째 재귀 함수를 호출합니다.\n",
      "24 번째 재귀 함수에서 25 번째 재귀 함수를 호출합니다.\n",
      "25 번째 재귀 함수에서 26 번째 재귀 함수를 호출합니다.\n",
      "26 번째 재귀 함수에서 27 번째 재귀 함수를 호출합니다.\n",
      "27 번째 재귀 함수에서 28 번째 재귀 함수를 호출합니다.\n",
      "28 번째 재귀 함수에서 29 번째 재귀 함수를 호출합니다.\n",
      "29 번째 재귀 함수에서 30 번째 재귀 함수를 호출합니다.\n",
      "30 번째 재귀 함수에서 31 번째 재귀 함수를 호출합니다.\n",
      "31 번째 재귀 함수에서 32 번째 재귀 함수를 호출합니다.\n",
      "32 번째 재귀 함수에서 33 번째 재귀 함수를 호출합니다.\n",
      "33 번째 재귀 함수에서 34 번째 재귀 함수를 호출합니다.\n",
      "34 번째 재귀 함수에서 35 번째 재귀 함수를 호출합니다.\n",
      "35 번째 재귀 함수에서 36 번째 재귀 함수를 호출합니다.\n",
      "36 번째 재귀 함수에서 37 번째 재귀 함수를 호출합니다.\n",
      "37 번째 재귀 함수에서 38 번째 재귀 함수를 호출합니다.\n",
      "38 번째 재귀 함수에서 39 번째 재귀 함수를 호출합니다.\n",
      "39 번째 재귀 함수에서 40 번째 재귀 함수를 호출합니다.\n",
      "40 번째 재귀 함수에서 41 번째 재귀 함수를 호출합니다.\n",
      "41 번째 재귀 함수에서 42 번째 재귀 함수를 호출합니다.\n",
      "42 번째 재귀 함수에서 43 번째 재귀 함수를 호출합니다.\n",
      "43 번째 재귀 함수에서 44 번째 재귀 함수를 호출합니다.\n",
      "44 번째 재귀 함수에서 45 번째 재귀 함수를 호출합니다.\n",
      "45 번째 재귀 함수에서 46 번째 재귀 함수를 호출합니다.\n",
      "46 번째 재귀 함수에서 47 번째 재귀 함수를 호출합니다.\n",
      "47 번째 재귀 함수에서 48 번째 재귀 함수를 호출합니다.\n",
      "48 번째 재귀 함수에서 49 번째 재귀 함수를 호출합니다.\n",
      "49 번째 재귀 함수에서 50 번째 재귀 함수를 호출합니다.\n",
      "50 번째 재귀 함수에서 51 번째 재귀 함수를 호출합니다.\n",
      "51 번째 재귀 함수에서 52 번째 재귀 함수를 호출합니다.\n",
      "52 번째 재귀 함수에서 53 번째 재귀 함수를 호출합니다.\n",
      "53 번째 재귀 함수에서 54 번째 재귀 함수를 호출합니다.\n",
      "54 번째 재귀 함수에서 55 번째 재귀 함수를 호출합니다.\n",
      "55 번째 재귀 함수에서 56 번째 재귀 함수를 호출합니다.\n",
      "56 번째 재귀 함수에서 57 번째 재귀 함수를 호출합니다.\n",
      "57 번째 재귀 함수에서 58 번째 재귀 함수를 호출합니다.\n",
      "58 번째 재귀 함수에서 59 번째 재귀 함수를 호출합니다.\n",
      "59 번째 재귀 함수에서 60 번째 재귀 함수를 호출합니다.\n",
      "60 번째 재귀 함수에서 61 번째 재귀 함수를 호출합니다.\n",
      "61 번째 재귀 함수에서 62 번째 재귀 함수를 호출합니다.\n",
      "62 번째 재귀 함수에서 63 번째 재귀 함수를 호출합니다.\n",
      "63 번째 재귀 함수에서 64 번째 재귀 함수를 호출합니다.\n",
      "64 번째 재귀 함수에서 65 번째 재귀 함수를 호출합니다.\n",
      "65 번째 재귀 함수에서 66 번째 재귀 함수를 호출합니다.\n",
      "66 번째 재귀 함수에서 67 번째 재귀 함수를 호출합니다.\n",
      "67 번째 재귀 함수에서 68 번째 재귀 함수를 호출합니다.\n",
      "68 번째 재귀 함수에서 69 번째 재귀 함수를 호출합니다.\n",
      "69 번째 재귀 함수에서 70 번째 재귀 함수를 호출합니다.\n",
      "70 번째 재귀 함수에서 71 번째 재귀 함수를 호출합니다.\n",
      "71 번째 재귀 함수에서 72 번째 재귀 함수를 호출합니다.\n",
      "72 번째 재귀 함수에서 73 번째 재귀 함수를 호출합니다.\n",
      "73 번째 재귀 함수에서 74 번째 재귀 함수를 호출합니다.\n",
      "74 번째 재귀 함수에서 75 번째 재귀 함수를 호출합니다.\n",
      "75 번째 재귀 함수에서 76 번째 재귀 함수를 호출합니다.\n",
      "76 번째 재귀 함수에서 77 번째 재귀 함수를 호출합니다.\n",
      "77 번째 재귀 함수에서 78 번째 재귀 함수를 호출합니다.\n",
      "78 번째 재귀 함수에서 79 번째 재귀 함수를 호출합니다.\n",
      "79 번째 재귀 함수에서 80 번째 재귀 함수를 호출합니다.\n",
      "80 번째 재귀 함수에서 81 번째 재귀 함수를 호출합니다.\n",
      "81 번째 재귀 함수에서 82 번째 재귀 함수를 호출합니다.\n",
      "82 번째 재귀 함수에서 83 번째 재귀 함수를 호출합니다.\n",
      "83 번째 재귀 함수에서 84 번째 재귀 함수를 호출합니다.\n",
      "84 번째 재귀 함수에서 85 번째 재귀 함수를 호출합니다.\n",
      "85 번째 재귀 함수에서 86 번째 재귀 함수를 호출합니다.\n",
      "86 번째 재귀 함수에서 87 번째 재귀 함수를 호출합니다.\n",
      "87 번째 재귀 함수에서 88 번째 재귀 함수를 호출합니다.\n",
      "88 번째 재귀 함수에서 89 번째 재귀 함수를 호출합니다.\n",
      "89 번째 재귀 함수에서 90 번째 재귀 함수를 호출합니다.\n",
      "90 번째 재귀 함수에서 91 번째 재귀 함수를 호출합니다.\n",
      "91 번째 재귀 함수에서 92 번째 재귀 함수를 호출합니다.\n",
      "92 번째 재귀 함수에서 93 번째 재귀 함수를 호출합니다.\n",
      "93 번째 재귀 함수에서 94 번째 재귀 함수를 호출합니다.\n",
      "94 번째 재귀 함수에서 95 번째 재귀 함수를 호출합니다.\n",
      "95 번째 재귀 함수에서 96 번째 재귀 함수를 호출합니다.\n",
      "96 번째 재귀 함수에서 97 번째 재귀 함수를 호출합니다.\n",
      "97 번째 재귀 함수에서 98 번째 재귀 함수를 호출합니다.\n",
      "98 번째 재귀 함수에서 99 번째 재귀 함수를 호출합니다.\n",
      "99 번째 재귀 함수에서 100 번째 재귀 함수를 호출합니다.\n",
      "99 번째 재귀 함수를 종료합니다.\n",
      "98 번째 재귀 함수를 종료합니다.\n",
      "97 번째 재귀 함수를 종료합니다.\n",
      "96 번째 재귀 함수를 종료합니다.\n",
      "95 번째 재귀 함수를 종료합니다.\n",
      "94 번째 재귀 함수를 종료합니다.\n",
      "93 번째 재귀 함수를 종료합니다.\n",
      "92 번째 재귀 함수를 종료합니다.\n",
      "91 번째 재귀 함수를 종료합니다.\n",
      "90 번째 재귀 함수를 종료합니다.\n",
      "89 번째 재귀 함수를 종료합니다.\n",
      "88 번째 재귀 함수를 종료합니다.\n",
      "87 번째 재귀 함수를 종료합니다.\n",
      "86 번째 재귀 함수를 종료합니다.\n",
      "85 번째 재귀 함수를 종료합니다.\n",
      "84 번째 재귀 함수를 종료합니다.\n",
      "83 번째 재귀 함수를 종료합니다.\n",
      "82 번째 재귀 함수를 종료합니다.\n",
      "81 번째 재귀 함수를 종료합니다.\n",
      "80 번째 재귀 함수를 종료합니다.\n",
      "79 번째 재귀 함수를 종료합니다.\n",
      "78 번째 재귀 함수를 종료합니다.\n",
      "77 번째 재귀 함수를 종료합니다.\n",
      "76 번째 재귀 함수를 종료합니다.\n",
      "75 번째 재귀 함수를 종료합니다.\n",
      "74 번째 재귀 함수를 종료합니다.\n",
      "73 번째 재귀 함수를 종료합니다.\n",
      "72 번째 재귀 함수를 종료합니다.\n",
      "71 번째 재귀 함수를 종료합니다.\n",
      "70 번째 재귀 함수를 종료합니다.\n",
      "69 번째 재귀 함수를 종료합니다.\n",
      "68 번째 재귀 함수를 종료합니다.\n",
      "67 번째 재귀 함수를 종료합니다.\n",
      "66 번째 재귀 함수를 종료합니다.\n",
      "65 번째 재귀 함수를 종료합니다.\n",
      "64 번째 재귀 함수를 종료합니다.\n",
      "63 번째 재귀 함수를 종료합니다.\n",
      "62 번째 재귀 함수를 종료합니다.\n",
      "61 번째 재귀 함수를 종료합니다.\n",
      "60 번째 재귀 함수를 종료합니다.\n",
      "59 번째 재귀 함수를 종료합니다.\n",
      "58 번째 재귀 함수를 종료합니다.\n",
      "57 번째 재귀 함수를 종료합니다.\n",
      "56 번째 재귀 함수를 종료합니다.\n",
      "55 번째 재귀 함수를 종료합니다.\n",
      "54 번째 재귀 함수를 종료합니다.\n",
      "53 번째 재귀 함수를 종료합니다.\n",
      "52 번째 재귀 함수를 종료합니다.\n",
      "51 번째 재귀 함수를 종료합니다.\n",
      "50 번째 재귀 함수를 종료합니다.\n",
      "49 번째 재귀 함수를 종료합니다.\n",
      "48 번째 재귀 함수를 종료합니다.\n",
      "47 번째 재귀 함수를 종료합니다.\n",
      "46 번째 재귀 함수를 종료합니다.\n",
      "45 번째 재귀 함수를 종료합니다.\n",
      "44 번째 재귀 함수를 종료합니다.\n",
      "43 번째 재귀 함수를 종료합니다.\n",
      "42 번째 재귀 함수를 종료합니다.\n",
      "41 번째 재귀 함수를 종료합니다.\n",
      "40 번째 재귀 함수를 종료합니다.\n",
      "39 번째 재귀 함수를 종료합니다.\n",
      "38 번째 재귀 함수를 종료합니다.\n",
      "37 번째 재귀 함수를 종료합니다.\n",
      "36 번째 재귀 함수를 종료합니다.\n",
      "35 번째 재귀 함수를 종료합니다.\n",
      "34 번째 재귀 함수를 종료합니다.\n",
      "33 번째 재귀 함수를 종료합니다.\n",
      "32 번째 재귀 함수를 종료합니다.\n",
      "31 번째 재귀 함수를 종료합니다.\n",
      "30 번째 재귀 함수를 종료합니다.\n",
      "29 번째 재귀 함수를 종료합니다.\n",
      "28 번째 재귀 함수를 종료합니다.\n",
      "27 번째 재귀 함수를 종료합니다.\n",
      "26 번째 재귀 함수를 종료합니다.\n",
      "25 번째 재귀 함수를 종료합니다.\n",
      "24 번째 재귀 함수를 종료합니다.\n",
      "23 번째 재귀 함수를 종료합니다.\n",
      "22 번째 재귀 함수를 종료합니다.\n",
      "21 번째 재귀 함수를 종료합니다.\n",
      "20 번째 재귀 함수를 종료합니다.\n",
      "19 번째 재귀 함수를 종료합니다.\n",
      "18 번째 재귀 함수를 종료합니다.\n",
      "17 번째 재귀 함수를 종료합니다.\n",
      "16 번째 재귀 함수를 종료합니다.\n",
      "15 번째 재귀 함수를 종료합니다.\n",
      "14 번째 재귀 함수를 종료합니다.\n",
      "13 번째 재귀 함수를 종료합니다.\n",
      "12 번째 재귀 함수를 종료합니다.\n",
      "11 번째 재귀 함수를 종료합니다.\n",
      "10 번째 재귀 함수를 종료합니다.\n",
      "9 번째 재귀 함수를 종료합니다.\n",
      "8 번째 재귀 함수를 종료합니다.\n",
      "7 번째 재귀 함수를 종료합니다.\n",
      "6 번째 재귀 함수를 종료합니다.\n",
      "5 번째 재귀 함수를 종료합니다.\n",
      "4 번째 재귀 함수를 종료합니다.\n",
      "3 번째 재귀 함수를 종료합니다.\n",
      "2 번째 재귀 함수를 종료합니다.\n",
      "1 번째 재귀 함수를 종료합니다.\n"
     ]
    }
   ],
   "source": [
    "def recursive_function(i):\n",
    "    # 100번째 출력했을 때 종료되도록 조건 명시\n",
    "    if i == 100:\n",
    "        return\n",
    "    print(i, '번째 재귀 함수에서', i + 1, '번째 재귀 함수를 호출합니다.')\n",
    "    recursive_function(i + 1)\n",
    "    print(i, '번째 재귀 함수를 종료합니다.')\n",
    "recursive_function(1)"
   ]
  },
  {
   "cell_type": "markdown",
   "id": "32aee86f",
   "metadata": {},
   "source": [
    "### 팩토리얼 예제"
   ]
  },
  {
   "cell_type": "code",
   "execution_count": 6,
   "id": "c3aafaa6",
   "metadata": {},
   "outputs": [
    {
     "name": "stdout",
     "output_type": "stream",
     "text": [
      "반복적으로 구현:  120\n",
      "재귀적으로 구현:  120\n"
     ]
    }
   ],
   "source": [
    "# 반복적으로 구현한 n!\n",
    "def factorial_iterative(n):\n",
    "    result = 1\n",
    "    # 1부터 n까지의 수를 차례대로 곱하기\n",
    "    for i in range(1, n + 1):\n",
    "        result *= i\n",
    "    return result\n",
    "\n",
    "# 재귀적으로 구현한 n!\n",
    "def factorial_recursive(n):\n",
    "    if n <= 1:\n",
    "        return 1\n",
    "    return n * factorial_recursive(n - 1)\n",
    "\n",
    "print('반복적으로 구현: ', factorial_iterative(5))\n",
    "print('재귀적으로 구현: ', factorial_recursive(5))"
   ]
  },
  {
   "cell_type": "markdown",
   "id": "345f40bc",
   "metadata": {},
   "source": [
    "## 탐색 알고리즘 DFS/BFS"
   ]
  },
  {
   "cell_type": "markdown",
   "id": "c6ae50ce",
   "metadata": {},
   "source": [
    "### 인접행렬 방식 예제"
   ]
  },
  {
   "cell_type": "code",
   "execution_count": 7,
   "id": "2fa382a0",
   "metadata": {},
   "outputs": [
    {
     "name": "stdout",
     "output_type": "stream",
     "text": [
      "[[0, 7, 5], [7, 0, 999999999], [5, 999999999, 0]]\n"
     ]
    }
   ],
   "source": [
    "INF = 999999999 # 무한의 비용 선언\n",
    "\n",
    "# 2차원 리스트를 이용해 인접 행렬 표현\n",
    "graph = [\n",
    "    [0, 7, 5],\n",
    "    [7, 0, INF], \n",
    "    [5, INF, 0]\n",
    "]\n",
    "\n",
    "print(graph)"
   ]
  },
  {
   "cell_type": "markdown",
   "id": "928bbfaf",
   "metadata": {},
   "source": [
    "### 인접리스트 방식 예제"
   ]
  },
  {
   "cell_type": "code",
   "execution_count": 11,
   "id": "d9a5a0e6",
   "metadata": {},
   "outputs": [
    {
     "name": "stdout",
     "output_type": "stream",
     "text": [
      "[[(1, 7), (2, 5)], [(0, 7)], [(0, 5)]]\n"
     ]
    }
   ],
   "source": [
    "# 행이 3개인 2차원 리스트로 인접 리스트 표현\n",
    "graph = [[] for _ in range(3)]\n",
    "\n",
    "# 노드 0에 연결된 노드 정보 저장(노드, 거리)\n",
    "graph[0].append((1, 7))\n",
    "graph[0].append((2, 5))\n",
    "\n",
    "# 노드 1에 연결된 노드 정보 저장(노드, 거리)\n",
    "graph[1].append((0, 7))\n",
    "\n",
    "# 노드 2에 연결된 노드 정보 저장(노드, 거리)\n",
    "graph[2].append((0, 5))\n",
    "\n",
    "print(graph)"
   ]
  },
  {
   "cell_type": "markdown",
   "id": "df39d7a5",
   "metadata": {},
   "source": [
    "### DFS (깊이우선탐색) 알고리즘 예시"
   ]
  },
  {
   "cell_type": "code",
   "execution_count": 13,
   "id": "11b87237",
   "metadata": {},
   "outputs": [
    {
     "name": "stdout",
     "output_type": "stream",
     "text": [
      "1 2 7 6 8 3 4 5 "
     ]
    }
   ],
   "source": [
    "def dfs(graph, v, visited):\n",
    "    # 현재 노드를 방문 처리\n",
    "    visited[v] = True\n",
    "    print(v, end=' ')\n",
    "    # 현재 노드와 연결된 다른 노드를 재귀적으로 방문\n",
    "    for i in graph[v]:\n",
    "        if not visited[i]:\n",
    "            dfs(graph, i, visited)\n",
    "            \n",
    "# 각 노드가 연결된 정보를 리스트 자료형으로 표현 (2차원 리스트)\n",
    "graph = [\n",
    "    [],\n",
    "    [2, 3, 8],\n",
    "    [1, 7],\n",
    "    [1, 4, 5],\n",
    "    [3, 5],\n",
    "    [3, 4],\n",
    "    [7],\n",
    "    [2, 6, 8],\n",
    "    [1, 7]\n",
    "]\n",
    "\n",
    "# 각 노드가 방문된 정보를 리스트 자료형으로 표현 (1차원 리스트)\n",
    "visited = [False] * 9\n",
    "\n",
    "# 정의된 DFS 함수 호출\n",
    "dfs(graph, 1, visited)"
   ]
  },
  {
   "cell_type": "markdown",
   "id": "227e30a6",
   "metadata": {},
   "source": [
    "### BFS (넓이우선탐색) 알고리즘 예시"
   ]
  },
  {
   "cell_type": "code",
   "execution_count": null,
   "id": "c73f4aef",
   "metadata": {},
   "outputs": [],
   "source": [
    "from collection import deque\n",
    "\n",
    "# BFS 메서드 정의\n",
    "def bfs(graph, start, visited):\n",
    "    # 큐(Queue) 구현을 위해 deque 라이브러리 사용\n",
    "    queue = deque([start])\n",
    "    # 현재 노드 방문 처리\n",
    "    visited[start] = True\n",
    "    # 큐가 빌 때까지 반복\n",
    "    while queue:\n",
    "        # 큐에서 하나의 원소를 뽑아 출력\n",
    "        v = queue.popleft()\n",
    "        pritn(v, end = ' ')\n",
    "        # 해당 원소와 연결된. 아직 방문하지 않은 원소들을 큐에 삽입\n",
    "        for i in graph[v]:\n",
    "            if not visited[i]:\n",
    "                queue.append(i)\n",
    "                visited[i] = True\n",
    "\n",
    "# 각 노드가 연결된 정보를 리스트 자료형으로 표현 (2차원 리스트)\n",
    "graph = [\n",
    "    [],\n",
    "    [2, 3, 8],\n",
    "    [1, 7],\n",
    "    [1, 4, 5],\n",
    "    [3, 5],\n",
    "    [3, 4],\n",
    "    [7],\n",
    "    [2, 6, 8],\n",
    "    [1, 7]\n",
    "]\n",
    "\n",
    "\n"
   ]
  },
  {
   "cell_type": "code",
   "execution_count": null,
   "id": "8658d1ac",
   "metadata": {},
   "outputs": [],
   "source": []
  },
  {
   "cell_type": "code",
   "execution_count": null,
   "id": "866bd63c",
   "metadata": {},
   "outputs": [],
   "source": []
  },
  {
   "cell_type": "code",
   "execution_count": null,
   "id": "457cff1c",
   "metadata": {},
   "outputs": [],
   "source": []
  },
  {
   "cell_type": "code",
   "execution_count": null,
   "id": "d5601e23",
   "metadata": {},
   "outputs": [],
   "source": []
  },
  {
   "cell_type": "code",
   "execution_count": null,
   "id": "5772856f",
   "metadata": {},
   "outputs": [],
   "source": []
  },
  {
   "cell_type": "code",
   "execution_count": null,
   "id": "96cda652",
   "metadata": {},
   "outputs": [],
   "source": []
  }
 ],
 "metadata": {
  "kernelspec": {
   "display_name": "Python 3 (ipykernel)",
   "language": "python",
   "name": "python3"
  },
  "language_info": {
   "codemirror_mode": {
    "name": "ipython",
    "version": 3
   },
   "file_extension": ".py",
   "mimetype": "text/x-python",
   "name": "python",
   "nbconvert_exporter": "python",
   "pygments_lexer": "ipython3",
   "version": "3.9.12"
  }
 },
 "nbformat": 4,
 "nbformat_minor": 5
}
